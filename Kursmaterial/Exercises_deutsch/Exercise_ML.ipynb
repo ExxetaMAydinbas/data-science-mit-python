{
 "cells": [
  {
   "cell_type": "code",
   "execution_count": null,
   "id": "c7983e49",
   "metadata": {},
   "outputs": [],
   "source": [
    "import pandas as pd\n",
    "import numpy as np\n",
    "import seaborn as sns\n",
    "import matplotlib.pyplot as plt"
   ]
  },
  {
   "cell_type": "code",
   "execution_count": null,
   "id": "19a6a823",
   "metadata": {},
   "outputs": [],
   "source": [
    "from sklearn import datasets"
   ]
  },
  {
   "cell_type": "markdown",
   "id": "d10b4ef0-0ffc-4082-947b-e33a3fe32572",
   "metadata": {},
   "source": [
    "## Step 1: Lade den Diabetes Datensatz mit `load_diabetes()` in die Variable `diabetes`"
   ]
  },
  {
   "cell_type": "markdown",
   "id": "0b705893-4f81-4b94-9f76-8d730f80b54e",
   "metadata": {},
   "source": [
    "Achte darauf, den Datensatz als `DataFrame` zu laden"
   ]
  },
  {
   "cell_type": "markdown",
   "id": "f0864b6f-6376-46fd-bada-3ab18e9b4e48",
   "metadata": {},
   "source": [
    "Nutze `scaled=False`, damit wir selbst den Effekt der Skalierung testen können!"
   ]
  },
  {
   "cell_type": "code",
   "execution_count": null,
   "id": "aa6264c7-e357-4109-a54c-04403deb9538",
   "metadata": {},
   "outputs": [],
   "source": [
    "?datasets.load_diabetes"
   ]
  },
  {
   "cell_type": "code",
   "execution_count": null,
   "id": "afbe838d",
   "metadata": {},
   "outputs": [],
   "source": [
    "# Lade den Datensatz mit load_diabetes, achte auf die richtigen Parameter\n",
    "diabetes = "
   ]
  },
  {
   "cell_type": "markdown",
   "id": "2faf1531-f323-4c07-a8cd-16033576997c",
   "metadata": {},
   "source": [
    "## Step 2: Gib die Beschreibung des Datensatzes aus"
   ]
  },
  {
   "cell_type": "code",
   "execution_count": null,
   "id": "bdd21835",
   "metadata": {},
   "outputs": [],
   "source": [
    "# Greife auf DESCR zu\n"
   ]
  },
  {
   "cell_type": "markdown",
   "id": "e3920bfe-3780-429c-8811-075ab91a8d15",
   "metadata": {},
   "source": [
    "## Step 3: Speichere die Features in `X` und das target in `y`"
   ]
  },
  {
   "cell_type": "code",
   "execution_count": null,
   "id": "c63a0c54-7f95-47a9-bec9-9c78ee9cce28",
   "metadata": {},
   "outputs": [],
   "source": [
    "X = \n",
    "y = "
   ]
  },
  {
   "cell_type": "markdown",
   "id": "b65d0974-0897-40b8-9fdf-b5654e8dbcfa",
   "metadata": {},
   "source": [
    "## Step 4: Überprüfe die Dimension von `X` und `y` sowie die Datentypen von `X`"
   ]
  },
  {
   "cell_type": "code",
   "execution_count": null,
   "id": "db9335d6-2877-4b16-a1ce-396605a5d161",
   "metadata": {},
   "outputs": [],
   "source": [
    "X"
   ]
  },
  {
   "cell_type": "code",
   "execution_count": null,
   "id": "2de3d66e-4c67-42e5-b865-0c2f21915474",
   "metadata": {},
   "outputs": [],
   "source": [
    "y"
   ]
  },
  {
   "cell_type": "code",
   "execution_count": null,
   "id": "c7a82c68-849f-4bf3-9d3e-59e2c70e9d3f",
   "metadata": {},
   "outputs": [],
   "source": [
    "# Dimension von X und y\n"
   ]
  },
  {
   "cell_type": "code",
   "execution_count": null,
   "id": "7b3927f0-8d5e-4f03-a2e1-c4784ccba939",
   "metadata": {},
   "outputs": [],
   "source": [
    "# Datentypen von X\n"
   ]
  },
  {
   "cell_type": "markdown",
   "id": "0701e994-a824-431b-a06f-69570724039b",
   "metadata": {
    "tags": []
   },
   "source": [
    "## Step 5: Wandle den Datentyp der Variable `sex` in `category` um"
   ]
  },
  {
   "cell_type": "code",
   "execution_count": null,
   "id": "4dee0ca0-6844-4482-91b6-cf03ae66e607",
   "metadata": {},
   "outputs": [],
   "source": [
    "# .astype(\"category\")\n",
    "X[\"sex\"] = "
   ]
  },
  {
   "cell_type": "markdown",
   "id": "18dde4ce-823f-4352-83f4-7ae1f0876447",
   "metadata": {},
   "source": [
    "## Step 6: Überprüfe die Wertebereiche aller Features auf mögliche Ausreißer (`describe()`)"
   ]
  },
  {
   "cell_type": "code",
   "execution_count": null,
   "id": "71c348ce-6214-4cfd-945f-615583fc8c70",
   "metadata": {},
   "outputs": [],
   "source": [
    "# Nutze describe\n"
   ]
  },
  {
   "cell_type": "markdown",
   "id": "5a4399d7-4d52-4832-897a-7914f286000e",
   "metadata": {},
   "source": [
    "## Step 7: Wie sieht die Altersverteilung und BMI-Verteilung im Datensatz aus? (Histogramm)"
   ]
  },
  {
   "cell_type": "markdown",
   "id": "04fee295-c361-4249-bb12-bac687a45e70",
   "metadata": {},
   "source": [
    "Erstelle die Grafiken jeweils mit und ohne Unterscheidung nach dem Geschlecht"
   ]
  },
  {
   "cell_type": "code",
   "execution_count": null,
   "id": "069664c2-d19b-4da0-80ee-1b1170520595",
   "metadata": {},
   "outputs": [],
   "source": [
    "# histplot von seaborn\n"
   ]
  },
  {
   "cell_type": "code",
   "execution_count": null,
   "id": "6c89436a-cecc-45a5-877f-42001d1e2eb8",
   "metadata": {},
   "outputs": [],
   "source": [
    "# histplot von seaborn mit hue\n"
   ]
  },
  {
   "cell_type": "code",
   "execution_count": null,
   "id": "85a672a9-b256-4105-bc30-a2903f7ce1bb",
   "metadata": {},
   "outputs": [],
   "source": [
    "# histplot von seaborn mit col\n"
   ]
  },
  {
   "cell_type": "code",
   "execution_count": null,
   "id": "9c9f11bd-7cb9-439d-87ff-f833f3dbcfeb",
   "metadata": {},
   "outputs": [],
   "source": []
  },
  {
   "cell_type": "code",
   "execution_count": null,
   "id": "b89249cd-e389-4a55-9967-3192905c6ee5",
   "metadata": {},
   "outputs": [],
   "source": []
  },
  {
   "cell_type": "code",
   "execution_count": null,
   "id": "bea7920e-9d3a-4d92-bdcf-5240c83f4c56",
   "metadata": {},
   "outputs": [],
   "source": []
  },
  {
   "cell_type": "markdown",
   "id": "000d1dd4-aef6-44ce-b2dc-dc0bf300041c",
   "metadata": {},
   "source": [
    "## Step 8: Wie sieht die Geschlechtsverteilung im Datensatz aus?"
   ]
  },
  {
   "cell_type": "code",
   "execution_count": null,
   "id": "f0454313-171c-48cf-8cc3-569bbbbaa4f1",
   "metadata": {},
   "outputs": [],
   "source": [
    "# Untersuche X.sex\n"
   ]
  },
  {
   "cell_type": "code",
   "execution_count": null,
   "id": "03f5b045-5b80-41d9-b8ba-c5be1e7a54bd",
   "metadata": {},
   "outputs": [],
   "source": [
    "# alternativ sns.countplot\n"
   ]
  },
  {
   "cell_type": "markdown",
   "id": "7a7d6246-38be-4419-8142-1ac7c6974b30",
   "metadata": {},
   "source": [
    "## Step 9: Bestimme die Korrelation zwischen den Features und dem Target (`.corrwith()`)"
   ]
  },
  {
   "cell_type": "code",
   "execution_count": null,
   "id": "24dba5cd-08e5-44db-8d17-6b0f6887df0c",
   "metadata": {},
   "outputs": [],
   "source": [
    "# Korreliere X mit y, sortiere anschließend\n"
   ]
  },
  {
   "cell_type": "markdown",
   "id": "29be8284-0c1a-41f0-89c3-973c1736d669",
   "metadata": {},
   "source": [
    "## Step 10: Wiederhole die Analyse aus Schritt 6, getrennt nach Geschlecht"
   ]
  },
  {
   "cell_type": "markdown",
   "id": "157539bb-8491-43f4-a486-572da520212b",
   "metadata": {},
   "source": [
    "Welche Gemeinsamkeiten und welche Unterschiede gibt es?"
   ]
  },
  {
   "cell_type": "code",
   "execution_count": null,
   "id": "4bc0890d-5a46-4891-b94b-d38981ea9188",
   "metadata": {},
   "outputs": [],
   "source": [
    "# Korreliere X mit y, aber nur für sex == 1\n"
   ]
  },
  {
   "cell_type": "code",
   "execution_count": null,
   "id": "6fe4f225-bd43-4fdd-8c60-2d26fc580506",
   "metadata": {},
   "outputs": [],
   "source": [
    "# Korreliere X mit y, aber nur für sex == 2\n"
   ]
  },
  {
   "cell_type": "markdown",
   "id": "b1bdcabf-3609-450c-84c1-8187105949b2",
   "metadata": {},
   "source": [
    "## Step 11: Stelle die Korrelationen für jedes Geschlecht als Balkendiagramm dar"
   ]
  },
  {
   "cell_type": "markdown",
   "id": "31abadb0-dd14-441b-8f7e-1be19d83f232",
   "metadata": {},
   "source": [
    "Aunfwendiger, gerne überspringen"
   ]
  },
  {
   "cell_type": "code",
   "execution_count": null,
   "id": "2ed3aa48-f403-4798-90a5-2258c9249a24",
   "metadata": {},
   "outputs": [],
   "source": []
  },
  {
   "cell_type": "code",
   "execution_count": null,
   "id": "61cc41d9-8e39-471e-b822-de6c8244dd08",
   "metadata": {},
   "outputs": [],
   "source": []
  },
  {
   "cell_type": "code",
   "execution_count": null,
   "id": "39cd2a12-5f32-4afb-a02e-586db9043d18",
   "metadata": {},
   "outputs": [],
   "source": []
  },
  {
   "cell_type": "markdown",
   "id": "76110a16-8f98-4e4f-9fb0-80fa8592c4bb",
   "metadata": {
    "tags": []
   },
   "source": [
    "## Step 12: Erstelle eine Scatterplotmatrix für den Datensatz mit den 5 höchstkorrelierten Features (`sns.pairplot`)"
   ]
  },
  {
   "cell_type": "markdown",
   "id": "bfa2279a-9a36-44d2-ad8e-487c02e679be",
   "metadata": {},
   "source": [
    "https://seaborn.pydata.org/examples/scatterplot_matrix.html"
   ]
  },
  {
   "cell_type": "code",
   "execution_count": null,
   "id": "352ca82c-24b8-4e4e-ae4b-80e1b9a40836",
   "metadata": {},
   "outputs": [],
   "source": [
    "# Verbinde X und y zu einem Dataframe (pd.concat)\n"
   ]
  },
  {
   "cell_type": "code",
   "execution_count": null,
   "id": "83dfb8b0-55b7-412f-995d-33106d4ac4ff",
   "metadata": {},
   "outputs": [],
   "source": [
    "# Bestimme mit .corrwith() die 5 höchstkorrelierten Features (Achtung, auch negativ zählt!)\n"
   ]
  },
  {
   "cell_type": "code",
   "execution_count": null,
   "id": "557272bc-d2db-44c5-b649-2d205e6fcc14",
   "metadata": {},
   "outputs": [],
   "source": [
    "# Visualisiere mit sns.pairplot\n"
   ]
  },
  {
   "cell_type": "markdown",
   "id": "a720c08e-54d2-49ac-876c-a9f50181ba6f",
   "metadata": {},
   "source": [
    "## Step 13: Erstelle einen Trainings- und Testdatensatz"
   ]
  },
  {
   "cell_type": "code",
   "execution_count": null,
   "id": "f8a56aa2-bb3d-4e38-b1d7-d48af07537dd",
   "metadata": {},
   "outputs": [],
   "source": [
    "# train_test_split von sklearn\n"
   ]
  },
  {
   "cell_type": "markdown",
   "id": "82babb4f-62fd-442e-9730-c924036380bd",
   "metadata": {},
   "source": [
    "## Step 14: Wähle ein lineares Modell und trainiere es"
   ]
  },
  {
   "cell_type": "markdown",
   "id": "e68f9003-bc31-44ad-94dd-0c41ff573a21",
   "metadata": {},
   "source": [
    "https://scikit-learn.org/stable/modules/linear_model.html"
   ]
  },
  {
   "cell_type": "code",
   "execution_count": null,
   "id": "f56620e0-5e65-4523-8510-71009e23471d",
   "metadata": {},
   "outputs": [],
   "source": [
    "from sklearn.linear_model import LinearRegression\n",
    "\n",
    "model = "
   ]
  },
  {
   "cell_type": "markdown",
   "id": "9e38c574-f90d-4b2b-8dfd-156758dc6842",
   "metadata": {},
   "source": [
    "## Step 15: Bewerte das Modell auf dem Testdatensatz einmal mit `score()` und einmal mit der `mean_squared_error` Metrik"
   ]
  },
  {
   "cell_type": "code",
   "execution_count": null,
   "id": "181f052a-a990-436d-b79f-d3a1e5a78d73",
   "metadata": {},
   "outputs": [],
   "source": [
    "# Nutze .score()\n"
   ]
  },
  {
   "cell_type": "code",
   "execution_count": null,
   "id": "56d11b72-bf4c-47fc-b08a-0d688261559f",
   "metadata": {},
   "outputs": [],
   "source": [
    "from sklearn.metrics import mean_squared_error\n",
    "# Benutzer .predict() \n",
    "predictions = "
   ]
  },
  {
   "cell_type": "code",
   "execution_count": null,
   "id": "886d5e2b-fadb-4166-a817-cbcf92244c72",
   "metadata": {},
   "outputs": [],
   "source": []
  },
  {
   "cell_type": "markdown",
   "id": "b0d00ca5-7431-47ac-8124-49fa5f3f06a7",
   "metadata": {},
   "source": [
    "## Step 16: Wiederhole Schritt 14 und 15, einmal mit Normalisierung und einmal mit Standardisierung. Was fällt auf?"
   ]
  },
  {
   "cell_type": "code",
   "execution_count": null,
   "id": "d27cfe07-7738-43c5-9300-38a77f5e12b8",
   "metadata": {},
   "outputs": [],
   "source": [
    "from sklearn.preprocessing import MinMaxScaler, StandardScaler\n",
    "\n",
    "scaler ="
   ]
  },
  {
   "cell_type": "code",
   "execution_count": null,
   "id": "ec99ad4b-96c6-4d18-b713-ffe51fee1060",
   "metadata": {},
   "outputs": [],
   "source": [
    "from sklearn.preprocessing import MinMaxScaler, StandardScaler\n",
    "\n",
    "scaler = \n"
   ]
  },
  {
   "cell_type": "markdown",
   "id": "fb0f6a0b-f46a-455b-93c9-b789226f0b82",
   "metadata": {},
   "source": [
    "## Step 17: Schreibe eine Funktion, die ein Modell, die Trainings- und Testdaten und optional einen Transformer bekommt und das Training durchführt"
   ]
  },
  {
   "cell_type": "markdown",
   "id": "0d28080e-49fd-4298-bfc6-83bc75306380",
   "metadata": {},
   "source": [
    "Bonus"
   ]
  },
  {
   "cell_type": "code",
   "execution_count": null,
   "id": "7ba0af20-a665-4822-aaa4-90395c8f4ff8",
   "metadata": {},
   "outputs": [],
   "source": [
    "\n",
    "    "
   ]
  },
  {
   "cell_type": "code",
   "execution_count": null,
   "id": "32f8cb6b-43ce-4f4a-8c34-d6fd37ed93db",
   "metadata": {},
   "outputs": [],
   "source": [
    "train(LinearRegression(), X_train, y_train, X_test, y_test, StandardScaler())"
   ]
  },
  {
   "cell_type": "markdown",
   "id": "d28ceefa-b879-43d6-997d-f1d2ff3adc63",
   "metadata": {},
   "source": [
    "## Step 18: Teste deine Funktion mit anderen Regressionsmodellen, jeweils mit und ohne Standardisierung"
   ]
  },
  {
   "cell_type": "markdown",
   "id": "8017c97a-0e8c-4e8f-82bc-76ddada9f17e",
   "metadata": {},
   "source": [
    "https://scikit-learn.org/stable/supervised_learning.html"
   ]
  },
  {
   "cell_type": "code",
   "execution_count": null,
   "id": "7690f827-18cd-434c-b81a-34dcbf013381",
   "metadata": {},
   "outputs": [],
   "source": [
    "from sklearn.linear_model import Ridge, Lasso\n",
    "\n",
    "model = Ridge()\n",
    "train(model, X_train, y_train, X_test, y_test)\n",
    "train(model, X_train, y_train, X_test, y_test, StandardScaler())\n",
    "\n",
    "model = Lasso()\n",
    "train(model, X_train, y_train, X_test, y_test)\n",
    "train(model, X_train, y_train, X_test, y_test, StandardScaler())"
   ]
  },
  {
   "cell_type": "code",
   "execution_count": null,
   "id": "23586f4b-3fa5-4536-bfd5-0689a0661c1c",
   "metadata": {},
   "outputs": [],
   "source": [
    "from sklearn.svm import SVR\n",
    "\n",
    "model = SVR(kernel=\"rbf\")\n",
    "train(model, X_train, y_train, X_test, y_test)\n",
    "train(model, X_train, y_train, X_test, y_test, StandardScaler())\n",
    "\n",
    "model = SVR(kernel=\"poly\", degree=3)\n",
    "train(model, X_train, y_train, X_test, y_test)\n",
    "train(model, X_train, y_train, X_test, y_test, StandardScaler())"
   ]
  },
  {
   "cell_type": "code",
   "execution_count": null,
   "id": "f07bc04e-7d46-43df-9255-cfa9f39c4591",
   "metadata": {},
   "outputs": [],
   "source": [
    "from sklearn.tree import DecisionTreeRegressor\n",
    "\n",
    "model = DecisionTreeRegressor()\n",
    "train(model, X_train, y_train, X_test, y_test)\n",
    "train(model, X_train, y_train, X_test, y_test, StandardScaler())\n",
    "\n",
    "model = DecisionTreeRegressor(max_depth=10)\n",
    "train(model, X_train, y_train, X_test, y_test)\n",
    "train(model, X_train, y_train, X_test, y_test, StandardScaler())"
   ]
  },
  {
   "cell_type": "code",
   "execution_count": null,
   "id": "a2ea7570-5dc7-49c1-89a7-6a07b77d1b4f",
   "metadata": {},
   "outputs": [],
   "source": [
    "from sklearn.ensemble import RandomForestRegressor\n",
    "\n",
    "model = RandomForestRegressor()\n",
    "train(model, X_train, y_train, X_test, y_test)\n",
    "train(model, X_train, y_train, X_test, y_test, StandardScaler())\n",
    "\n",
    "model = RandomForestRegressor(n_estimators=100, max_depth=5, max_features=3)\n",
    "train(model, X_train, y_train, X_test, y_test)\n",
    "train(model, X_train, y_train, X_test, y_test, StandardScaler())"
   ]
  },
  {
   "cell_type": "markdown",
   "id": "5439eeed-1938-4a19-a2e0-8b5201b0e847",
   "metadata": {},
   "source": [
    "## Step 19: Gib die Koeffizienten des linearen Modells aus und visualisiere sie. Was fällt auf, wenn wir die Koeffizienten mit den Werten aus der Korrelationsanalyse vergleichen?"
   ]
  },
  {
   "cell_type": "markdown",
   "id": "6e1761a4-c1ac-4bb1-8919-a346eba2965d",
   "metadata": {},
   "source": [
    "Hat ein StandardScaler EInfluss auf diese Auswertung?"
   ]
  },
  {
   "cell_type": "code",
   "execution_count": 241,
   "id": "7ff01d8d-66e5-4ec1-9184-bf5157863985",
   "metadata": {},
   "outputs": [],
   "source": [
    "# .coef_ enthält die Koefizienten\n"
   ]
  },
  {
   "cell_type": "code",
   "execution_count": null,
   "id": "75563003-3952-46f8-83ce-cb4e40083286",
   "metadata": {},
   "outputs": [],
   "source": []
  },
  {
   "cell_type": "code",
   "execution_count": null,
   "id": "8dba8833-30ea-4629-9e85-9771b448d66e",
   "metadata": {},
   "outputs": [],
   "source": []
  },
  {
   "cell_type": "code",
   "execution_count": null,
   "id": "18d0bad9-26bf-48be-9de7-4764bcc6984f",
   "metadata": {},
   "outputs": [],
   "source": []
  }
 ],
 "metadata": {
  "kernelspec": {
   "display_name": "Python 3 (ipykernel)",
   "language": "python",
   "name": "python3"
  },
  "language_info": {
   "codemirror_mode": {
    "name": "ipython",
    "version": 3
   },
   "file_extension": ".py",
   "mimetype": "text/x-python",
   "name": "python",
   "nbconvert_exporter": "python",
   "pygments_lexer": "ipython3",
   "version": "3.9.12"
  }
 },
 "nbformat": 4,
 "nbformat_minor": 5
}
